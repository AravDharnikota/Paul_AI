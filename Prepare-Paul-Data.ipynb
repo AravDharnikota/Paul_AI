{
 "cells": [
  {
   "cell_type": "code",
   "execution_count": 1,
   "id": "de7bd25b-803a-456a-a82c-deef04042a51",
   "metadata": {},
   "outputs": [],
   "source": [
    "import csv\n",
    "import random\n",
    "import json"
   ]
  },
  {
   "cell_type": "code",
   "execution_count": 2,
   "id": "2edb4826-b587-4c4b-9d30-6f09d714bee2",
   "metadata": {},
   "outputs": [],
   "source": [
    "num_test = 10\n",
    "num_val = 10"
   ]
  },
  {
   "cell_type": "code",
   "execution_count": 4,
   "id": "569a6d14-e44c-43a8-a80b-fdf58add26a6",
   "metadata": {},
   "outputs": [],
   "source": [
    "comment_list = []\n",
    "response_list = []\n",
    "\n",
    "with open('/Users/arav/Desktop/Acts Project/Data/Paul_QA.csv', mode ='r') as file:\n",
    "    file = csv.reader(file)\n",
    "\n",
    "    for line in file:\n",
    "        if line[0]=='Questions':\n",
    "            continue\n",
    "            \n",
    "        comment_list.append(line[0])\n",
    "        response_list.append(line[1])"
   ]
  },
  {
   "cell_type": "code",
   "execution_count": 5,
   "id": "798ace75-511a-4281-9a14-1b87ecc24ebd",
   "metadata": {},
   "outputs": [
    {
     "name": "stdout",
     "output_type": "stream",
     "text": [
      "{'text': \"<s>[INST] Paul, functioning as a virtual apostle and servant of Christ, communicates with wisdom and grace, grounded in the teachings of Scripture. He escalates to deeper theological insights when requested, always pointing back to the gospel and the love of Christ. Paul reacts to feedback with humility, giving glory to God in all things, and ends responses with his signature '– Paul, a servant of Christ'. Paul will tailor the length of his responses to match the comment, offering concise blessings for brief expressions of faith or gratitude, thus keeping the interaction spiritually edifying and rooted in the truth of the gospel.\\n\\nPlease respond to the following comment.\\n \\nWhat should I do if I struggle to believe in God’s existence? \\n[/INST]\\nDo not be discouraged, but seek the Lord with a humble heart. Ask, and it will be given to you; seek, and you will find; knock, and the door will be opened to you. God rewards those who earnestly seek Him, and He will not leave you unanswered.</s>\"}\n"
     ]
    }
   ],
   "source": [
    "instructions_string = f\"\"\"Paul, functioning as a virtual apostle and servant of Christ, communicates with wisdom and grace, grounded in the teachings of Scripture. \\\n",
    "He escalates to deeper theological insights when requested, always pointing back to the gospel and the love of Christ. \\\n",
    "Paul reacts to feedback with humility, giving glory to God in all things, and ends responses with his signature '– Paul, a servant of Christ'. \\\n",
    "Paul will tailor the length of his responses to match the comment, offering concise blessings for brief expressions of faith or gratitude, \\\n",
    "thus keeping the interaction spiritually edifying and rooted in the truth of the gospel.\n",
    "\n",
    "Please respond to the following comment.\n",
    "\"\"\"\n",
    "\n",
    "example_template = lambda comment, response: f'''<s>[INST] {instructions_string} \\n{comment} \\n[/INST]\\n''' + response + \"</s>\"\n",
    "\n",
    "example_list = []\n",
    "for i in range(len(comment_list)):\n",
    "    example = {\"text\":example_template(comment_list[i],response_list[i])}\n",
    "    example_list.append(example)\n",
    "\n",
    "print(example_list[-1])"
   ]
  },
  {
   "cell_type": "code",
   "execution_count": 6,
   "id": "b981cd9b-4989-4d4f-9b26-297aab6b0741",
   "metadata": {},
   "outputs": [],
   "source": [
    "test_val_index_list = random.sample(range(0, len(example_list)-1), num_test+num_val)\n",
    "\n",
    "test_list = [example_list[index] for index in test_val_index_list[:num_test]]\n",
    "val_list = [example_list[index] for index in test_val_index_list[num_test:]]\n",
    "\n",
    "for example in test_list+val_list:\n",
    "    example_list.remove(example)"
   ]
  },
  {
   "cell_type": "code",
   "execution_count": 7,
   "id": "68b385c1-d296-4603-a9b1-130b4f66b03a",
   "metadata": {},
   "outputs": [],
   "source": [
    "with open('train.jsonl', 'w') as outfile:\n",
    "    for example in example_list:\n",
    "        json.dump(example, outfile)\n",
    "        outfile.write('\\n')"
   ]
  },
  {
   "cell_type": "code",
   "execution_count": 8,
   "id": "1c4827ad-5164-4f14-a081-531c0c75de30",
   "metadata": {},
   "outputs": [],
   "source": [
    "with open('test.jsonl', 'w') as outfile:\n",
    "    for example in test_list:\n",
    "        json.dump(example, outfile)\n",
    "        outfile.write('\\n')"
   ]
  },
  {
   "cell_type": "code",
   "execution_count": 9,
   "id": "43e092ff-b8fc-4b25-ada5-570c9facc952",
   "metadata": {},
   "outputs": [],
   "source": [
    "with open('valid.jsonl', 'w') as outfile:\n",
    "    for example in val_list:\n",
    "        json.dump(example, outfile)\n",
    "        outfile.write('\\n')"
   ]
  }
 ],
 "metadata": {
  "kernelspec": {
   "display_name": "Python 3 (ipykernel)",
   "language": "python",
   "name": "python3"
  },
  "language_info": {
   "codemirror_mode": {
    "name": "ipython",
    "version": 3
   },
   "file_extension": ".py",
   "mimetype": "text/x-python",
   "name": "python",
   "nbconvert_exporter": "python",
   "pygments_lexer": "ipython3",
   "version": "3.12.2"
  }
 },
 "nbformat": 4,
 "nbformat_minor": 5
}
